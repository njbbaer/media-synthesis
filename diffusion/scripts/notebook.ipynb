{
 "cells": [
  {
   "cell_type": "code",
   "execution_count": null,
   "metadata": {},
   "outputs": [],
   "source": [
    "# Install packages\n",
    "!apt install git curl -y\n",
    "%pip install ftfy regex requests tqdm jupyterlab ipywidgets\n",
    "\n",
    "# Clone repository\n",
    "!git clone --recursive https://github.com/crowsonkb/v-diffusion-pytorch\n",
    "\n",
    "# Download diffusion model\n",
    "!mkdir v-diffusion-pytorch/checkpoints\n",
    "!curl -L https://v-diffusion.s3.us-west-2.amazonaws.com/cc12m_1_cfg.pth > v-diffusion-pytorch/checkpoints/cc12m_1_cfg.pth"
   ]
  },
  {
   "cell_type": "code",
   "execution_count": null,
   "metadata": {},
   "outputs": [],
   "source": [
    "%load_ext autoreload\n",
    "%autoreload 2\n",
    "\n",
    "from diffusion_model import DiffusionModel"
   ]
  },
  {
   "cell_type": "code",
   "execution_count": null,
   "metadata": {},
   "outputs": [],
   "source": [
    "DEFAULTS = {\n",
    "    'weight': 5,\n",
    "    'n_images': 1,\n",
    "    'max_timestep': 1,\n",
    "    'eta': 1,\n",
    "    'seed': 0,\n",
    "    'save': False,\n",
    "    'use_init': False,\n",
    "    'reverse': False,\n",
    "    'size': (256, 256),\n",
    "    'display': True,\n",
    "    'display_every': None,\n",
    "    'steps': 100,\n",
    "    'scale': None,\n",
    "    'save_name': None,\n",
    "    'load_name': None,\n",
    "    'renoise': None,\n",
    "}\n",
    "\n",
    "def run(params, init=None):\n",
    "    params = {**DEFAULTS, **params}\n",
    "    print(params)\n",
    "    return DiffusionModel(params, init).run()\n",
    "\n",
    "def upscale_complex(params):\n",
    "    x = run({\n",
    "        'reverse': True,\n",
    "        'scale': 2,\n",
    "        'load_name': 'output',\n",
    "        'max_timestep': 0.8,\n",
    "        **params,\n",
    "        'prompt': None,\n",
    "        'save_name': None,\n",
    "    })\n",
    "    run({\n",
    "        **params,\n",
    "        'max_timestep': 0.8,\n",
    "        'load_name': None,\n",
    "    }, x)\n",
    "\n",
    "def upscale_simple(params):\n",
    "    run({\n",
    "        'prompt': prompt,\n",
    "        'max_timestep': 0.7,\n",
    "        'renoise': 1.03,\n",
    "        'scale': 2,\n",
    "    })\n"
   ]
  },
  {
   "cell_type": "code",
   "execution_count": null,
   "metadata": {},
   "outputs": [],
   "source": [
    "prompt = 'digital art'\n",
    "seed = 0\n",
    "\n",
    "while True:\n",
    "    run({\n",
    "        'prompt': prompt,\n",
    "        'seed': seed,\n",
    "        'steps': 100,\n",
    "    })\n",
    "    seed += 1\n",
    "\n",
    "print('Done!')"
   ]
  }
 ],
 "metadata": {
  "kernelspec": {
   "display_name": "Python 3 (ipykernel)",
   "language": "python",
   "name": "python3"
  },
  "language_info": {
   "codemirror_mode": {
    "name": "ipython",
    "version": 3
   },
   "file_extension": ".py",
   "mimetype": "text/x-python",
   "name": "python",
   "nbconvert_exporter": "python",
   "pygments_lexer": "ipython3",
   "version": "3.7.11"
  },
  "orig_nbformat": 4
 },
 "nbformat": 4,
 "nbformat_minor": 2
}
