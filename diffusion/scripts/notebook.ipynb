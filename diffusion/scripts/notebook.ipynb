{
 "cells": [
  {
   "cell_type": "code",
   "execution_count": null,
   "metadata": {},
   "outputs": [],
   "source": [
    "# Install packages\n",
    "!apt install git curl -y\n",
    "%pip install ftfy regex requests tqdm jupyterlab ipywidgets\n",
    "\n",
    "# Clone repository\n",
    "!git clone --recursive https://github.com/crowsonkb/v-diffusion-pytorch\n",
    "\n",
    "# Download diffusion model\n",
    "!mkdir v-diffusion-pytorch/checkpoints\n",
    "!curl -L https://v-diffusion.s3.us-west-2.amazonaws.com/cc12m_1_cfg.pth > v-diffusion-pytorch/checkpoints/cc12m_1_cfg.pth"
   ]
  },
  {
   "cell_type": "code",
   "execution_count": null,
   "metadata": {},
   "outputs": [],
   "source": [
    "%load_ext autoreload\n",
    "%autoreload 2\n",
    "\n",
    "from diffusion_model import DiffusionModel"
   ]
  },
  {
   "cell_type": "code",
   "execution_count": null,
   "metadata": {},
   "outputs": [],
   "source": [
    "def build_params(key, type, custom={}):\n",
    "    return {\n",
    "        **params['types']['default'],\n",
    "        **(params['types'].get(type) or {}),\n",
    "        **params['prompts']['default'],\n",
    "        **params['prompts'][key],\n",
    "        **(params['prompts'][key].get(type) or {}),\n",
    "        **custom,\n",
    "    }\n",
    "\n",
    "def run(pipeline):\n",
    "    init = None\n",
    "    for params in pipeline:\n",
    "        print(params)\n",
    "        init = DiffusionModel(params, init).run()"
   ]
  },
  {
   "cell_type": "code",
   "execution_count": null,
   "metadata": {},
   "outputs": [],
   "source": [
    "defaults = {\n",
    "    'weight': 5,\n",
    "    'n_images': 1,\n",
    "    'max_timestep': 1,\n",
    "    'eta': 1,\n",
    "    'seed': 0,\n",
    "    'save': False,\n",
    "    'use_init': False,\n",
    "    'reverse': False,\n",
    "    'size': (256, 256),\n",
    "    'display_every': 10,\n",
    "    'steps': 100,\n",
    "    'scale': None,\n",
    "}\n",
    "\n",
    "run([\n",
    "    {\n",
    "        **defaults,\n",
    "        'prompt': 'desert palm oasis photo',\n",
    "    },    \n",
    "    {\n",
    "        **defaults,\n",
    "        'reverse': True,\n",
    "        'use_init': True,\n",
    "        'max_timestep': 0.90,\n",
    "        'scale': 2,\n",
    "    },\n",
    "    {\n",
    "        **defaults,\n",
    "        'prompt': 'desert palm oasis photo',\n",
    "        'use_init': True,\n",
    "        'max_timestep': 0.90,\n",
    "    },\n",
    "])"
   ]
  }
 ],
 "metadata": {
  "kernelspec": {
   "display_name": "Python 3 (ipykernel)",
   "language": "python",
   "name": "python3"
  },
  "language_info": {
   "codemirror_mode": {
    "name": "ipython",
    "version": 3
   },
   "file_extension": ".py",
   "mimetype": "text/x-python",
   "name": "python",
   "nbconvert_exporter": "python",
   "pygments_lexer": "ipython3",
   "version": "3.7.11"
  },
  "orig_nbformat": 4
 },
 "nbformat": 4,
 "nbformat_minor": 2
}
